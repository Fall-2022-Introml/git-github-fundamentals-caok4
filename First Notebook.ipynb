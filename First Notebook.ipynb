{
 "cells": [
  {
   "cell_type": "markdown",
   "id": "9c6b9781-9c69-4789-87a7-ea6ccb861eb4",
   "metadata": {},
   "source": [
    "First Notebook"
   ]
  },
  {
   "cell_type": "code",
   "execution_count": 1,
   "id": "85ce2a9d-69e2-4671-9f82-366a9c720f92",
   "metadata": {},
   "outputs": [
    {
     "name": "stdout",
     "output_type": "stream",
     "text": [
      "hello world\n"
     ]
    }
   ],
   "source": [
    "print ('hello world')\n"
   ]
  },
  {
   "cell_type": "code",
   "execution_count": null,
   "id": "e32db0b0-6a28-4841-b385-9cf96a1d7b10",
   "metadata": {},
   "outputs": [],
   "source": []
  }
 ],
 "metadata": {
  "kernelspec": {
   "display_name": "Python 3 (ipykernel)",
   "language": "python",
   "name": "python3"
  },
  "language_info": {
   "codemirror_mode": {
    "name": "ipython",
    "version": 3
   },
   "file_extension": ".py",
   "mimetype": "text/x-python",
   "name": "python",
   "nbconvert_exporter": "python",
   "pygments_lexer": "ipython3",
   "version": "3.9.12"
  }
 },
 "nbformat": 4,
 "nbformat_minor": 5
}
